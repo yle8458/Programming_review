{
 "cells": [
  {
   "cell_type": "markdown",
   "metadata": {},
   "source": [
    "# Author - Tejasvi Sharma\n",
    "Data Science Student, George Washington University"
   ]
  },
  {
   "cell_type": "markdown",
   "metadata": {},
   "source": [
    "Loop Types:\n",
    "\n",
    "    1)For Loop\n",
    "\n",
    "    2)While Loop\n",
    "\n",
    "    3)Nested Loop"
   ]
  },
  {
   "cell_type": "code",
   "execution_count": null,
   "metadata": {},
   "outputs": [],
   "source": [
    "#For LOOP\n",
    "for i in range(1,10,2):# range goes till one value less than the second argument\n",
    "    print(i)"
   ]
  },
  {
   "cell_type": "code",
   "execution_count": null,
   "metadata": {},
   "outputs": [],
   "source": [
    "#while loop\n",
    "i=1\n",
    "while(i<=10):#condition\n",
    "    print(i,end=\"\\n\")\n",
    "    print(\"End Loop\",end=\"\\n\")\n",
    "    i=i+1 #increment\n",
    "# print(\"End Loop\")"
   ]
  },
  {
   "cell_type": "code",
   "execution_count": null,
   "metadata": {},
   "outputs": [],
   "source": [
    "#Nested Loop, loop inside loop\n",
    "for i in range(2,10): #outer\n",
    "    for j in range(1,i): #inner\n",
    "        print(j,end=\"\")\n",
    "    print()\n",
    "        "
   ]
  },
  {
   "cell_type": "markdown",
   "metadata": {},
   "source": [
    "Question 1: Find out the sum of range of numbers using both for and while loop. Range(1-100)"
   ]
  },
  {
   "cell_type": "code",
   "execution_count": null,
   "metadata": {},
   "outputs": [],
   "source": [
    "#Solution\n",
    "#For loop\n",
    "s=0\n",
    "for i in range(1,100):\n",
    "    s=s+i\n",
    "print(s)\n",
    "s=0\n",
    "i=1\n",
    "while(i<100):\n",
    "    s=s+i\n",
    "    i=i+1\n",
    "print(s)"
   ]
  },
  {
   "cell_type": "markdown",
   "metadata": {},
   "source": [
    "Question 2: Find out the factorial of a number using for and while loop.\n",
    "\n",
    "Example:-\n",
    "\n",
    "    Input: 4\n",
    "    \n",
    "    Output:\n",
    "    \n",
    "    Factorial =24 (Factorial =4*3*2*1)"
   ]
  },
  {
   "cell_type": "code",
   "execution_count": null,
   "metadata": {},
   "outputs": [],
   "source": [
    "#To do\n",
    "#Solution\n",
    "#For Loop\n",
    "s=1\n",
    "for i in range(1,5):\n",
    "    s=s*i\n",
    "print(s)\n",
    "#implement While loop"
   ]
  },
  {
   "cell_type": "markdown",
   "metadata": {},
   "source": [
    "Question 3: Find out whether a number is a prime number or not.\n",
    "\n",
    "Example 1:-\n",
    "\n",
    "    Input:- 4\n",
    "    \n",
    "    Output:\n",
    "    \n",
    "    Not aPrime Number\n",
    "\n",
    "Example 2:-\n",
    "\n",
    "    Input:- 3\n",
    "    \n",
    "    Output:\n",
    "    \n",
    "    Prime Number\n",
    "    "
   ]
  },
  {
   "cell_type": "code",
   "execution_count": null,
   "metadata": {},
   "outputs": [],
   "source": [
    "#Prime number is divisible by itself and 1, so it has 2 factors\n",
    "\n",
    "#Counting factors to determine whether prime or not\n",
    "num=6\n",
    "c=0\n",
    "for i in range(1,num+1):\n",
    "    print(num,i,end=\"\")\n",
    "    print(\" \"+str(num%i),end=\"\")\n",
    "    if(num%i==0):\n",
    "        c=c+1\n",
    "    print()\n",
    "if(c==2):\n",
    "    print(\"Prime\")\n",
    "else:\n",
    "    print(\"Not Prime\")\n"
   ]
  },
  {
   "cell_type": "markdown",
   "metadata": {},
   "source": [
    "Question 4: Find the sum on numbers in a list.\n",
    "\n",
    "Example:-\n",
    "    \n",
    "    Input list- [1,2,3,4]\n",
    "    \n",
    "    Output:\n",
    "    \n",
    "    Sum of list= 10"
   ]
  },
  {
   "cell_type": "code",
   "execution_count": null,
   "metadata": {},
   "outputs": [],
   "source": [
    "#To do\n",
    "#Using For loop\n",
    "l=[5,6,7,8]\n",
    "print(sum(l))\n",
    "s=0\n",
    "for i in l:\n",
    "    s=s+i\n",
    "    \n",
    "print(s)\n",
    "\n",
    "d={\"a\":\"1\",\"b\":\"2\",\"c\":\"3\"}\n",
    "for key,value in d.items():\n",
    "    print(key,value)"
   ]
  },
  {
   "cell_type": "markdown",
   "metadata": {},
   "source": [
    "Question 5: Print patterns\n",
    "\n",
    "5.a)                            \n",
    "    \n",
    "    *\n",
    "    **\n",
    "    ***\n",
    "    ****\n",
    "    *****\n",
    "\n",
    "5.b)\n",
    "\n",
    "    1    \n",
    "    12\n",
    "    123\n",
    "    1234 \n",
    "    12345"
   ]
  },
  {
   "cell_type": "code",
   "execution_count": null,
   "metadata": {},
   "outputs": [],
   "source": [
    "#Solution\n",
    "#Pattern 1\n",
    "for i in range(1,5+1):\n",
    "    print(\"Value of i\",i)\n",
    "    print(\"J range\",1,i+1)\n",
    "    for j in range(1,i+1):\n",
    "        print(\"*\",end=\"\")\n",
    "    print()\n",
    "\n",
    "#pattern 2\n",
    "\n"
   ]
  },
  {
   "cell_type": "markdown",
   "metadata": {},
   "source": [
    "Question 6: Print Patterns\n",
    "\n",
    "6.a)\n",
    "    \n",
    "    1\n",
    "    23\n",
    "    456\n",
    "    78910\n",
    "    \n",
    "6.b) \n",
    "\n",
    "    *****\n",
    "    ****\n",
    "    ***\n",
    "    **\n",
    "    *"
   ]
  },
  {
   "cell_type": "code",
   "execution_count": null,
   "metadata": {},
   "outputs": [],
   "source": [
    "#To do\n",
    "#Solution 6.a\n",
    "\n",
    "\n",
    "#solution 6.b\n"
   ]
  },
  {
   "cell_type": "markdown",
   "metadata": {},
   "source": [
    "Question 7: Print sum of digits in a number.\n",
    "\n",
    "Example:\n",
    "\n",
    "    Input Number: 123\n",
    "    \n",
    "    Output:\n",
    "    \n",
    "    Sum digits= 6"
   ]
  },
  {
   "cell_type": "code",
   "execution_count": null,
   "metadata": {},
   "outputs": [],
   "source": [
    "#Solution\n",
    "n=123\n",
    "s=0\n",
    "while(n!=0):\n",
    "    s=s+n%10\n",
    "    n=n//10\n",
    "print(s)\n"
   ]
  },
  {
   "cell_type": "markdown",
   "metadata": {},
   "source": [
    "Question 8: Given a list of numbers find out how many are even numbers.\n",
    "\n",
    "Example:\n",
    "\n",
    "    Input list: [5,9,2,14,20,55]\n",
    "    \n",
    "    Output:\n",
    "    \n",
    "    Count of even numbers=3"
   ]
  },
  {
   "cell_type": "code",
   "execution_count": null,
   "metadata": {},
   "outputs": [],
   "source": [
    "#To do\n",
    "#Solution\n",
    "l=[5,9,2,14,20,55]\n",
    "c=0\n",
    "for val in l:\n",
    "    if(val%2==0):\n",
    "        c=c+1\n",
    "print(c)"
   ]
  },
  {
   "cell_type": "markdown",
   "metadata": {},
   "source": [
    "Question 9: Reverse a given number.\n",
    "\n",
    "Example:\n",
    "\n",
    "    Input: 123\n",
    "    \n",
    "    Output: 321"
   ]
  },
  {
   "cell_type": "code",
   "execution_count": null,
   "metadata": {},
   "outputs": [],
   "source": [
    "#To do\n",
    "#Solution\n",
    "n=123\n",
    "st=str(n)\n",
    "for i in range(len(st)-1,-1,-1):\n",
    "    print(st[i],end=\"\")\n",
    "rev=0\n",
    "print()\n",
    "while(n!=0):\n",
    "    rev=rev*10+n%10\n",
    "    n=n//10\n",
    "print(rev)"
   ]
  },
  {
   "cell_type": "markdown",
   "metadata": {},
   "source": [
    "Question 10: Find the sum of reverse of numbers in a list.\n",
    "\n",
    "Example-\n",
    "\n",
    "    Input:- [23,41,56,45]\n",
    "    \n",
    "    Output:- Sum = 165(sum of 32,14,65,54)\n"
   ]
  },
  {
   "cell_type": "code",
   "execution_count": null,
   "metadata": {},
   "outputs": [],
   "source": [
    "#To do\n",
    "s=0\n",
    "l=[23,41,56,45]\n",
    "for i in l:\n",
    "    rev=0\n",
    "    n=i\n",
    "    while(n!=0):\n",
    "        rev=rev*10+n%10\n",
    "        n=n//10\n",
    "    s=s+rev\n",
    "print(s)\n",
    "    "
   ]
  },
  {
   "cell_type": "markdown",
   "metadata": {},
   "source": [
    "Question 11: Print contents of a list in reverse.\n",
    "\n",
    "Example-\n",
    "\n",
    "    Input:- [54,76,89,98,100]\n",
    "    \n",
    "    Output:-\n",
    "    \n",
    "        100 98 89 76 54"
   ]
  },
  {
   "cell_type": "code",
   "execution_count": null,
   "metadata": {},
   "outputs": [],
   "source": [
    "#To do\n",
    "#Solution\n",
    "l=[54,76,89,98,100]\n",
    "for i in range(len(l)-1,-1,-1):\n",
    "    print(l[i],\" \",end=\"\")\n"
   ]
  },
  {
   "cell_type": "markdown",
   "metadata": {},
   "source": [
    "# Loop control statements"
   ]
  },
  {
   "cell_type": "code",
   "execution_count": null,
   "metadata": {},
   "outputs": [],
   "source": [
    "#explain break statements, pass statements, continue statements\n",
    "#Give examples\n"
   ]
  },
  {
   "cell_type": "markdown",
   "metadata": {},
   "source": [
    "Question 12: Write a program to find whether a number is prime or not using break.\n",
    "\n",
    "Example:\n",
    "\n",
    "    Input: 4\n",
    "    \n",
    "    Output: Not a prime Number"
   ]
  },
  {
   "cell_type": "code",
   "execution_count": null,
   "metadata": {},
   "outputs": [],
   "source": [
    "#Solution\n",
    "#Example of Break\n",
    "c=0\n",
    "num=99999999\n",
    "for i in range(1,num+1):\n",
    "    if(num%i==0):\n",
    "        c=c+1\n",
    "    if(c>2):\n",
    "        print(\"Not a prime Number\")\n",
    "        break;\n",
    "    print(i,c)\n",
    "    \n",
    "if(c==2):\n",
    "    print(\"prime\")\n"
   ]
  },
  {
   "cell_type": "code",
   "execution_count": null,
   "metadata": {},
   "outputs": [],
   "source": [
    "a=lambda x:x**2\n"
   ]
  },
  {
   "cell_type": "markdown",
   "metadata": {},
   "source": [
    "Question 13: Write a program to find sum of even numbers in a list.\n",
    "\n",
    "Example: \n",
    "\n",
    "    Input: [2,4,78,33,21,42]\n",
    "    \n",
    "    Output: Sum= 126(Sum of 2,4,78,42)"
   ]
  },
  {
   "cell_type": "code",
   "execution_count": null,
   "metadata": {},
   "outputs": [],
   "source": [
    "#Solution\n"
   ]
  },
  {
   "cell_type": "markdown",
   "metadata": {},
   "source": [
    "Question 14: Write a program to find hcf of two numbers.\n",
    "\n",
    "Example: \n",
    "\n",
    "    Input: Two numbers 4,8\n",
    "    \n",
    "    Output: 4(Highest Common Factor)"
   ]
  },
  {
   "cell_type": "code",
   "execution_count": null,
   "metadata": {},
   "outputs": [],
   "source": [
    "\n"
   ]
  },
  {
   "cell_type": "markdown",
   "metadata": {},
   "source": [
    "Question 15: Write a program to parse a matrix element by element.\n",
    "\n",
    "Example- \n",
    "    \n",
    "    Input: [[1,2,3],\n",
    "            [4,5,6],\n",
    "            [7,8,9]]\n",
    "            \n",
    "    Output: 1 2 3\n",
    "            4 5 6\n",
    "            7 8 9"
   ]
  },
  {
   "cell_type": "code",
   "execution_count": 5,
   "metadata": {},
   "outputs": [
    {
     "name": "stdout",
     "output_type": "stream",
     "text": [
      "1\n",
      "2\n",
      "3\n",
      "4\n",
      "5\n",
      "6\n",
      "7\n",
      "8\n",
      "9\n"
     ]
    }
   ],
   "source": [
    "#Matrix is a list of list\n",
    "a=[[1,2,3],[4,5,6],[7,8,9]]\n",
    "\n",
    "for i in a:\n",
    "    for j in i:\n",
    "        print(j)\n"
   ]
  },
  {
   "cell_type": "markdown",
   "metadata": {},
   "source": [
    "Question 16: Write a program to find sum of left diagonal in a matrix.\n",
    "\n",
    "Example- \n",
    "    \n",
    "    Input: [[1,2,3],\n",
    "            [4,5,6],\n",
    "            [7,8,9]]\n",
    "    \n",
    "    Output: sum =15"
   ]
  },
  {
   "cell_type": "code",
   "execution_count": null,
   "metadata": {},
   "outputs": [],
   "source": [
    "#Matrix is a list of list\n",
    "#To do\n",
    "\n"
   ]
  },
  {
   "cell_type": "markdown",
   "metadata": {},
   "source": [
    "Question 17: Print Pattern.\n",
    "    \n",
    "    1\n",
    "    11\n",
    "    121\n",
    "    1331\n",
    "    14641\n",
    "    \n"
   ]
  },
  {
   "cell_type": "code",
   "execution_count": null,
   "metadata": {},
   "outputs": [],
   "source": [
    "#To do\n"
   ]
  },
  {
   "cell_type": "code",
   "execution_count": 12,
   "metadata": {},
   "outputs": [
    {
     "data": {
      "text/plain": [
       "[1, 2, 3]"
      ]
     },
     "execution_count": 12,
     "metadata": {},
     "output_type": "execute_result"
    }
   ],
   "source": []
  },
  {
   "cell_type": "code",
   "execution_count": null,
   "metadata": {},
   "outputs": [],
   "source": []
  }
 ],
 "metadata": {
  "kernelspec": {
   "display_name": "Python 3",
   "language": "python",
   "name": "python3"
  },
  "language_info": {
   "codemirror_mode": {
    "name": "ipython",
    "version": 3
   },
   "file_extension": ".py",
   "mimetype": "text/x-python",
   "name": "python",
   "nbconvert_exporter": "python",
   "pygments_lexer": "ipython3",
   "version": "3.6.5"
  }
 },
 "nbformat": 4,
 "nbformat_minor": 2
}
